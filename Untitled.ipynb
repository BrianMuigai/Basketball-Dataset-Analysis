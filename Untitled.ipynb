{
 "cells": [
  {
   "cell_type": "markdown",
   "metadata": {},
   "source": [
    "## Read Dataset"
   ]
  },
  {
   "cell_type": "code",
   "execution_count": 82,
   "metadata": {},
   "outputs": [],
   "source": [
    "import pandas as pd\n",
    "\n",
    "df = pd.read_csv('basketball_data.csv')"
   ]
  },
  {
   "cell_type": "markdown",
   "metadata": {},
   "source": [
    "### a) Of the players who never had a year with zero rebounds, which one scored the smallest number of total points across the five years."
   ]
  },
  {
   "cell_type": "code",
   "execution_count": 86,
   "metadata": {},
   "outputs": [
    {
     "name": "stdout",
     "output_type": "stream",
     "text": [
      "                    Points Scored  Rebounds\n",
      "Player                                     \n",
      "John Stockton                   3         1\n",
      "Clyde Drexler                  15         7\n",
      "Larry Bird                     39         8\n",
      "Magic Johnson                  42         7\n",
      "Scottie Pippen                 96        19\n",
      "Chris Mullin                  104        34\n",
      "Patrick Ewing                 109        46\n",
      "Michael Jordan                133        53\n",
      "Charles Barkley               165        36\n",
      "David Robinson                171        60\n",
      "Christian Laettner            223        47\n",
      "Karl Malone                   303       184\n",
      "\n",
      "Player with lowest point: Points Scored    3\n",
      "Rebounds         1\n",
      "Name: John Stockton, dtype: int64\n"
     ]
    }
   ],
   "source": [
    "### get players with no rebouds\n",
    "players_no_rebound = df[df['Rebounds'] > 0]\n",
    "#### group the new dataset by player\n",
    "grouped_df = players_no_rebound.groupby(['Player']).agg({'Points Scored':'sum','Rebounds':'sum'})\n",
    "grouped_df = grouped_df.sort_values(by=['Points Scored'])\n",
    "print(grouped_df)\n",
    "print('\\nPlayer with lowest point: {}'.format(grouped_df.iloc[0]))"
   ]
  },
  {
   "cell_type": "markdown",
   "metadata": {},
   "source": [
    "### b)   Are there any players who scored more points in each successive season? I.e., scored more points in 1993 than they did in 1992 and more points in 1994 than they did in 1993, etc. If not, are there any players who kept up such a streak for any group of four consecutive seasons?"
   ]
  },
  {
   "cell_type": "code",
   "execution_count": 135,
   "metadata": {},
   "outputs": [
    {
     "name": "stdout",
     "output_type": "stream",
     "text": [
      "                Player  Streak  Points Scored  Rebounds\n",
      "11      Scottie Pippen       3             98        19\n",
      "2   Christian Laettner       2            227        47\n",
      "4       David Robinson       2            187        60\n",
      "6          Karl Malone       2            303       184\n",
      "10       Patrick Ewing       2            144        46\n",
      "0      Charles Barkley       1            165        36\n",
      "1         Chris Mullin       1            104        34\n",
      "3        Clyde Drexler       1             44         7\n",
      "5        John Stockton       1             10         1\n",
      "7           Larry Bird       1             76         8\n",
      "8        Magic Johnson       1             53         7\n",
      "9       Michael Jordan       1            190        53\n"
     ]
    }
   ],
   "source": [
    "### get a list of players\n",
    "players = list((df.groupby(['Player']).agg({'Points Scored':'sum','Rebounds':'sum'})).index)\n",
    "\n",
    "# get streaks\n",
    "def get_streak(x):\n",
    "    data = df[df['Player'] == x]\n",
    "    data = data.sort_values(by=['Year'])\n",
    "\n",
    "    count = -1\n",
    "    prev = 0\n",
    "    streak = 0\n",
    "    for index, row in data.iterrows():   \n",
    "        points = row['Points Scored']\n",
    "        if points > prev:\n",
    "            count += 1\n",
    "        else:\n",
    "            if count > streak:\n",
    "                streak = count\n",
    "            count = 0\n",
    "        prev = points\n",
    "    if count > streak:\n",
    "        streak = count\n",
    "    return streak\n",
    "\n",
    "df['Streak'] = df.Player.apply(get_streak)\n",
    "data = df.groupby(['Player', 'Streak']).agg({'Points Scored':'sum','Rebounds':'sum'})\n",
    "data = data.reset_index()\n",
    "data = data.sort_values(by=['Streak'], ascending=False)\n",
    "print(data)  "
   ]
  },
  {
   "cell_type": "markdown",
   "metadata": {},
   "source": [
    "### c)   If we consider each player's lowest number of rebounds, which player had the largest such minimum?"
   ]
  },
  {
   "cell_type": "code",
   "execution_count": 62,
   "metadata": {},
   "outputs": [
    {
     "name": "stdout",
     "output_type": "stream",
     "text": [
      "                    Rebounds\n",
      "Player                      \n",
      "John Stockton              1\n",
      "Clyde Drexler              7\n",
      "Magic Johnson              7\n",
      "Larry Bird                 8\n",
      "Scottie Pippen            19\n",
      "Chris Mullin              34\n",
      "Charles Barkley           36\n",
      "Patrick Ewing             46\n",
      "Christian Laettner        47\n",
      "Michael Jordan            53\n",
      "David Robinson            60\n",
      "Karl Malone              184\n",
      "\n",
      "Player with lowest Rebounds Count: Rebounds    1\n",
      "Name: John Stockton, dtype: int64\n"
     ]
    }
   ],
   "source": [
    "data = df.groupby(['Player']).agg({'Rebounds':'sum'})\n",
    "data = data.sort_values(by=['Rebounds'])\n",
    "print(data)\n",
    "\n",
    "print('\\nPlayer with lowest Rebounds Count: {}'.format(data.iloc[0]))"
   ]
  },
  {
   "cell_type": "markdown",
   "metadata": {},
   "source": [
    "### d) Of the players who have a double-letter in their name (two consecutive letters that are the same), which one scored the least total points. (Must use a regular expression to locate players with two consecutive letters in any part of their name.)"
   ]
  },
  {
   "cell_type": "code",
   "execution_count": 72,
   "metadata": {},
   "outputs": [
    {
     "name": "stdout",
     "output_type": "stream",
     "text": [
      "                    Points Scored\n",
      "Player                           \n",
      "Larry Bird                     76\n",
      "Scottie Pippen                 98\n",
      "Chris Mullin                  104\n",
      "Christian Laettner            227\n",
      "\n",
      " Player with least points: Points Scored    76\n",
      "Name: Larry Bird, dtype: int64\n"
     ]
    }
   ],
   "source": [
    "import re\n",
    "def has_double(x):\n",
    "    r'((\\w)\\2)+'\n",
    "    m = [m.group() for m in re.finditer(r'((\\w)\\2)+', x)]\n",
    "    return len(m) > 0\n",
    "\n",
    "df['has double'] = df.Player.apply(has_double)\n",
    "data = df[df['has double'] == True]\n",
    "data = data.groupby(['Player']).agg({'Points Scored':sum})\n",
    "data = data.sort_values(by=['Points Scored'])\n",
    "print(data)\n",
    "print('\\n Player with least points: {}'.format(data.iloc[0]))"
   ]
  },
  {
   "cell_type": "markdown",
   "metadata": {},
   "source": [
    "### e)   Calculate each player's combined FT% across the five years. Note that the FT% from individual years cannot be combined directly, since they are based on different amounts of attempts."
   ]
  },
  {
   "cell_type": "code",
   "execution_count": 76,
   "metadata": {},
   "outputs": [
    {
     "data": {
      "text/html": [
       "<div>\n",
       "<style scoped>\n",
       "    .dataframe tbody tr th:only-of-type {\n",
       "        vertical-align: middle;\n",
       "    }\n",
       "\n",
       "    .dataframe tbody tr th {\n",
       "        vertical-align: top;\n",
       "    }\n",
       "\n",
       "    .dataframe thead th {\n",
       "        text-align: right;\n",
       "    }\n",
       "</style>\n",
       "<table border=\"1\" class=\"dataframe\">\n",
       "  <thead>\n",
       "    <tr style=\"text-align: right;\">\n",
       "      <th></th>\n",
       "      <th>FTM</th>\n",
       "      <th>FTA</th>\n",
       "      <th>FT%</th>\n",
       "    </tr>\n",
       "    <tr>\n",
       "      <th>Player</th>\n",
       "      <th></th>\n",
       "      <th></th>\n",
       "      <th></th>\n",
       "    </tr>\n",
       "  </thead>\n",
       "  <tbody>\n",
       "    <tr>\n",
       "      <th>Charles Barkley</th>\n",
       "      <td>73</td>\n",
       "      <td>108</td>\n",
       "      <td>0.675926</td>\n",
       "    </tr>\n",
       "    <tr>\n",
       "      <th>Chris Mullin</th>\n",
       "      <td>49</td>\n",
       "      <td>65</td>\n",
       "      <td>0.753846</td>\n",
       "    </tr>\n",
       "    <tr>\n",
       "      <th>Christian Laettner</th>\n",
       "      <td>81</td>\n",
       "      <td>97</td>\n",
       "      <td>0.835052</td>\n",
       "    </tr>\n",
       "    <tr>\n",
       "      <th>Clyde Drexler</th>\n",
       "      <td>16</td>\n",
       "      <td>46</td>\n",
       "      <td>0.347826</td>\n",
       "    </tr>\n",
       "    <tr>\n",
       "      <th>David Robinson</th>\n",
       "      <td>100</td>\n",
       "      <td>139</td>\n",
       "      <td>0.719424</td>\n",
       "    </tr>\n",
       "    <tr>\n",
       "      <th>John Stockton</th>\n",
       "      <td>6</td>\n",
       "      <td>15</td>\n",
       "      <td>0.400000</td>\n",
       "    </tr>\n",
       "    <tr>\n",
       "      <th>Karl Malone</th>\n",
       "      <td>117</td>\n",
       "      <td>160</td>\n",
       "      <td>0.731250</td>\n",
       "    </tr>\n",
       "    <tr>\n",
       "      <th>Larry Bird</th>\n",
       "      <td>34</td>\n",
       "      <td>45</td>\n",
       "      <td>0.755556</td>\n",
       "    </tr>\n",
       "    <tr>\n",
       "      <th>Magic Johnson</th>\n",
       "      <td>28</td>\n",
       "      <td>38</td>\n",
       "      <td>0.736842</td>\n",
       "    </tr>\n",
       "    <tr>\n",
       "      <th>Michael Jordan</th>\n",
       "      <td>62</td>\n",
       "      <td>94</td>\n",
       "      <td>0.659574</td>\n",
       "    </tr>\n",
       "    <tr>\n",
       "      <th>Patrick Ewing</th>\n",
       "      <td>52</td>\n",
       "      <td>91</td>\n",
       "      <td>0.571429</td>\n",
       "    </tr>\n",
       "    <tr>\n",
       "      <th>Scottie Pippen</th>\n",
       "      <td>51</td>\n",
       "      <td>72</td>\n",
       "      <td>0.708333</td>\n",
       "    </tr>\n",
       "  </tbody>\n",
       "</table>\n",
       "</div>"
      ],
      "text/plain": [
       "                    FTM  FTA       FT%\n",
       "Player                                \n",
       "Charles Barkley      73  108  0.675926\n",
       "Chris Mullin         49   65  0.753846\n",
       "Christian Laettner   81   97  0.835052\n",
       "Clyde Drexler        16   46  0.347826\n",
       "David Robinson      100  139  0.719424\n",
       "John Stockton         6   15  0.400000\n",
       "Karl Malone         117  160  0.731250\n",
       "Larry Bird           34   45  0.755556\n",
       "Magic Johnson        28   38  0.736842\n",
       "Michael Jordan       62   94  0.659574\n",
       "Patrick Ewing        52   91  0.571429\n",
       "Scottie Pippen       51   72  0.708333"
      ]
     },
     "execution_count": 76,
     "metadata": {},
     "output_type": "execute_result"
    }
   ],
   "source": [
    "data = df.groupby(['Player']).agg({'FTM':'sum', 'FTA':'sum'})\n",
    "percentages = []\n",
    "for index, row in data.iterrows():\n",
    "    fta = row['FTA']\n",
    "    ftm = row['FTM']\n",
    "    percentages.append(ftm/fta)\n",
    "data['FT%'] = percentages\n",
    "print(data)"
   ]
  },
  {
   "cell_type": "markdown",
   "metadata": {},
   "source": [
    "### f)    Create new column called PMR, which stands for \"Points minus rebounds.\" Sum the PMR for each player across all five years and sort the dataframe. Display at least the top five players according to this measure."
   ]
  },
  {
   "cell_type": "code",
   "execution_count": 81,
   "metadata": {},
   "outputs": [
    {
     "name": "stdout",
     "output_type": "stream",
     "text": [
      "                    Points Scored  Rebounds  PMR\n",
      "Player                                          \n",
      "Christian Laettner            227        47  180\n",
      "Michael Jordan                190        53  137\n",
      "Charles Barkley               165        36  129\n",
      "David Robinson                187        60  127\n",
      "Karl Malone                   303       184  119\n"
     ]
    }
   ],
   "source": [
    "data = df.groupby(['Player']).agg({'Points Scored':'sum', 'Rebounds':'sum'})\n",
    "pmr = []\n",
    "for index, row in data.iterrows():\n",
    "    points = row['Points Scored']\n",
    "    rebounds = row['Rebounds']\n",
    "    pmr.append(points-rebounds)\n",
    "\n",
    "data['PMR'] = pmr\n",
    "data = data.sort_values(by=['PMR'], ascending=False)\n",
    "print(data.head())"
   ]
  },
  {
   "cell_type": "code",
   "execution_count": null,
   "metadata": {},
   "outputs": [],
   "source": []
  }
 ],
 "metadata": {
  "kernelspec": {
   "display_name": "Python 3",
   "language": "python",
   "name": "python3"
  },
  "language_info": {
   "codemirror_mode": {
    "name": "ipython",
    "version": 3
   },
   "file_extension": ".py",
   "mimetype": "text/x-python",
   "name": "python",
   "nbconvert_exporter": "python",
   "pygments_lexer": "ipython3",
   "version": "3.8.5"
  }
 },
 "nbformat": 4,
 "nbformat_minor": 4
}
